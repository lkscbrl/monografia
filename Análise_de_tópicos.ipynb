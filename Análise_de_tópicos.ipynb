{
  "cells": [
    {
      "cell_type": "code",
      "execution_count": 1,
      "metadata": {
        "colab": {
          "base_uri": "https://localhost:8080/"
        },
        "id": "GTZw2ALa0wqw",
        "outputId": "a69746e9-e7e1-4ec6-bb94-bddb695a17cd"
      },
      "outputs": [
        {
          "output_type": "stream",
          "name": "stdout",
          "text": [
            "Looking in indexes: https://pypi.org/simple, https://us-python.pkg.dev/colab-wheels/public/simple/\n",
            "Collecting youtube-transcript-api\n",
            "  Downloading youtube_transcript_api-0.5.0-py3-none-any.whl (23 kB)\n",
            "Requirement already satisfied: requests in /usr/local/lib/python3.9/dist-packages (from youtube-transcript-api) (2.25.1)\n",
            "Requirement already satisfied: chardet<5,>=3.0.2 in /usr/local/lib/python3.9/dist-packages (from requests->youtube-transcript-api) (4.0.0)\n",
            "Requirement already satisfied: certifi>=2017.4.17 in /usr/local/lib/python3.9/dist-packages (from requests->youtube-transcript-api) (2022.12.7)\n",
            "Requirement already satisfied: idna<3,>=2.5 in /usr/local/lib/python3.9/dist-packages (from requests->youtube-transcript-api) (2.10)\n",
            "Requirement already satisfied: urllib3<1.27,>=1.21.1 in /usr/local/lib/python3.9/dist-packages (from requests->youtube-transcript-api) (1.26.14)\n",
            "Installing collected packages: youtube-transcript-api\n",
            "Successfully installed youtube-transcript-api-0.5.0\n",
            "Looking in indexes: https://pypi.org/simple, https://us-python.pkg.dev/colab-wheels/public/simple/\n",
            "Collecting scrapetube\n",
            "  Downloading scrapetube-2.3.1-py3-none-any.whl (5.4 kB)\n",
            "Requirement already satisfied: typing-extensions in /usr/local/lib/python3.9/dist-packages (from scrapetube) (4.5.0)\n",
            "Requirement already satisfied: requests in /usr/local/lib/python3.9/dist-packages (from scrapetube) (2.25.1)\n",
            "Requirement already satisfied: urllib3<1.27,>=1.21.1 in /usr/local/lib/python3.9/dist-packages (from requests->scrapetube) (1.26.14)\n",
            "Requirement already satisfied: certifi>=2017.4.17 in /usr/local/lib/python3.9/dist-packages (from requests->scrapetube) (2022.12.7)\n",
            "Requirement already satisfied: chardet<5,>=3.0.2 in /usr/local/lib/python3.9/dist-packages (from requests->scrapetube) (4.0.0)\n",
            "Requirement already satisfied: idna<3,>=2.5 in /usr/local/lib/python3.9/dist-packages (from requests->scrapetube) (2.10)\n",
            "Installing collected packages: scrapetube\n",
            "Successfully installed scrapetube-2.3.1\n",
            "Looking in indexes: https://pypi.org/simple, https://us-python.pkg.dev/colab-wheels/public/simple/\n",
            "Collecting pytube\n",
            "  Downloading pytube-12.1.2-py3-none-any.whl (57 kB)\n",
            "\u001b[2K     \u001b[90m━━━━━━━━━━━━━━━━━━━━━━━━━━━━━━━━━━━━━━━━\u001b[0m \u001b[32m57.0/57.0 KB\u001b[0m \u001b[31m7.0 MB/s\u001b[0m eta \u001b[36m0:00:00\u001b[0m\n",
            "\u001b[?25hInstalling collected packages: pytube\n",
            "Successfully installed pytube-12.1.2\n",
            "Looking in indexes: https://pypi.org/simple, https://us-python.pkg.dev/colab-wheels/public/simple/\n",
            "Collecting unidecode\n",
            "  Downloading Unidecode-1.3.6-py3-none-any.whl (235 kB)\n",
            "\u001b[2K     \u001b[90m━━━━━━━━━━━━━━━━━━━━━━━━━━━━━━━━━━━━━━━\u001b[0m \u001b[32m235.9/235.9 KB\u001b[0m \u001b[31m8.4 MB/s\u001b[0m eta \u001b[36m0:00:00\u001b[0m\n",
            "\u001b[?25hInstalling collected packages: unidecode\n",
            "Successfully installed unidecode-1.3.6\n",
            "/usr/local/lib/python3.9/dist-packages/torch/cuda/__init__.py:497: UserWarning: Can't initialize NVML\n",
            "  warnings.warn(\"Can't initialize NVML\")\n",
            "2023-03-10 00:44:20.106687: I tensorflow/core/platform/cpu_feature_guard.cc:193] This TensorFlow binary is optimized with oneAPI Deep Neural Network Library (oneDNN) to use the following CPU instructions in performance-critical operations:  AVX2 FMA\n",
            "To enable them in other operations, rebuild TensorFlow with the appropriate compiler flags.\n",
            "2023-03-10 00:44:21.634148: W tensorflow/compiler/xla/stream_executor/platform/default/dso_loader.cc:64] Could not load dynamic library 'libnvinfer.so.7'; dlerror: libnvinfer.so.7: cannot open shared object file: No such file or directory; LD_LIBRARY_PATH: /usr/local/nvidia/lib:/usr/local/nvidia/lib64\n",
            "2023-03-10 00:44:21.634280: W tensorflow/compiler/xla/stream_executor/platform/default/dso_loader.cc:64] Could not load dynamic library 'libnvinfer_plugin.so.7'; dlerror: libnvinfer_plugin.so.7: cannot open shared object file: No such file or directory; LD_LIBRARY_PATH: /usr/local/nvidia/lib:/usr/local/nvidia/lib64\n",
            "2023-03-10 00:44:21.634306: W tensorflow/compiler/tf2tensorrt/utils/py_utils.cc:38] TF-TRT Warning: Cannot dlopen some TensorRT libraries. If you would like to use Nvidia GPU with TensorRT, please make sure the missing libraries mentioned above are installed properly.\n",
            "2023-03-10 00:44:23.424028: E tensorflow/compiler/xla/stream_executor/cuda/cuda_driver.cc:267] failed call to cuInit: CUDA_ERROR_NO_DEVICE: no CUDA-capable device is detected\n",
            "Looking in indexes: https://pypi.org/simple, https://us-python.pkg.dev/colab-wheels/public/simple/\n",
            "Collecting pt-core-news-lg==3.4.0\n",
            "  Downloading https://github.com/explosion/spacy-models/releases/download/pt_core_news_lg-3.4.0/pt_core_news_lg-3.4.0-py3-none-any.whl (568.2 MB)\n",
            "\u001b[2K     \u001b[90m━━━━━━━━━━━━━━━━━━━━━━━━━━━━━━━━━━━━━━━\u001b[0m \u001b[32m568.2/568.2 MB\u001b[0m \u001b[31m2.6 MB/s\u001b[0m eta \u001b[36m0:00:00\u001b[0m\n",
            "\u001b[?25hRequirement already satisfied: spacy<3.5.0,>=3.4.0 in /usr/local/lib/python3.9/dist-packages (from pt-core-news-lg==3.4.0) (3.4.4)\n",
            "Requirement already satisfied: preshed<3.1.0,>=3.0.2 in /usr/local/lib/python3.9/dist-packages (from spacy<3.5.0,>=3.4.0->pt-core-news-lg==3.4.0) (3.0.8)\n",
            "Requirement already satisfied: spacy-loggers<2.0.0,>=1.0.0 in /usr/local/lib/python3.9/dist-packages (from spacy<3.5.0,>=3.4.0->pt-core-news-lg==3.4.0) (1.0.4)\n",
            "Requirement already satisfied: srsly<3.0.0,>=2.4.3 in /usr/local/lib/python3.9/dist-packages (from spacy<3.5.0,>=3.4.0->pt-core-news-lg==3.4.0) (2.4.6)\n",
            "Requirement already satisfied: packaging>=20.0 in /usr/local/lib/python3.9/dist-packages (from spacy<3.5.0,>=3.4.0->pt-core-news-lg==3.4.0) (23.0)\n",
            "Requirement already satisfied: jinja2 in /usr/local/lib/python3.9/dist-packages (from spacy<3.5.0,>=3.4.0->pt-core-news-lg==3.4.0) (3.1.2)\n",
            "Requirement already satisfied: numpy>=1.15.0 in /usr/local/lib/python3.9/dist-packages (from spacy<3.5.0,>=3.4.0->pt-core-news-lg==3.4.0) (1.22.4)\n",
            "Requirement already satisfied: langcodes<4.0.0,>=3.2.0 in /usr/local/lib/python3.9/dist-packages (from spacy<3.5.0,>=3.4.0->pt-core-news-lg==3.4.0) (3.3.0)\n",
            "Requirement already satisfied: tqdm<5.0.0,>=4.38.0 in /usr/local/lib/python3.9/dist-packages (from spacy<3.5.0,>=3.4.0->pt-core-news-lg==3.4.0) (4.65.0)\n",
            "Requirement already satisfied: smart-open<7.0.0,>=5.2.1 in /usr/local/lib/python3.9/dist-packages (from spacy<3.5.0,>=3.4.0->pt-core-news-lg==3.4.0) (6.3.0)\n",
            "Requirement already satisfied: thinc<8.2.0,>=8.1.0 in /usr/local/lib/python3.9/dist-packages (from spacy<3.5.0,>=3.4.0->pt-core-news-lg==3.4.0) (8.1.8)\n",
            "Requirement already satisfied: spacy-legacy<3.1.0,>=3.0.10 in /usr/local/lib/python3.9/dist-packages (from spacy<3.5.0,>=3.4.0->pt-core-news-lg==3.4.0) (3.0.12)\n",
            "Requirement already satisfied: requests<3.0.0,>=2.13.0 in /usr/local/lib/python3.9/dist-packages (from spacy<3.5.0,>=3.4.0->pt-core-news-lg==3.4.0) (2.25.1)\n",
            "Requirement already satisfied: typer<0.8.0,>=0.3.0 in /usr/local/lib/python3.9/dist-packages (from spacy<3.5.0,>=3.4.0->pt-core-news-lg==3.4.0) (0.7.0)\n",
            "Requirement already satisfied: catalogue<2.1.0,>=2.0.6 in /usr/local/lib/python3.9/dist-packages (from spacy<3.5.0,>=3.4.0->pt-core-news-lg==3.4.0) (2.0.8)\n",
            "Requirement already satisfied: cymem<2.1.0,>=2.0.2 in /usr/local/lib/python3.9/dist-packages (from spacy<3.5.0,>=3.4.0->pt-core-news-lg==3.4.0) (2.0.7)\n",
            "Requirement already satisfied: wasabi<1.1.0,>=0.9.1 in /usr/local/lib/python3.9/dist-packages (from spacy<3.5.0,>=3.4.0->pt-core-news-lg==3.4.0) (0.10.1)\n",
            "Requirement already satisfied: setuptools in /usr/local/lib/python3.9/dist-packages (from spacy<3.5.0,>=3.4.0->pt-core-news-lg==3.4.0) (57.4.0)\n",
            "Requirement already satisfied: murmurhash<1.1.0,>=0.28.0 in /usr/local/lib/python3.9/dist-packages (from spacy<3.5.0,>=3.4.0->pt-core-news-lg==3.4.0) (1.0.9)\n",
            "Requirement already satisfied: pathy>=0.3.5 in /usr/local/lib/python3.9/dist-packages (from spacy<3.5.0,>=3.4.0->pt-core-news-lg==3.4.0) (0.10.1)\n",
            "Requirement already satisfied: pydantic!=1.8,!=1.8.1,<1.11.0,>=1.7.4 in /usr/local/lib/python3.9/dist-packages (from spacy<3.5.0,>=3.4.0->pt-core-news-lg==3.4.0) (1.10.5)\n",
            "Requirement already satisfied: typing-extensions>=4.2.0 in /usr/local/lib/python3.9/dist-packages (from pydantic!=1.8,!=1.8.1,<1.11.0,>=1.7.4->spacy<3.5.0,>=3.4.0->pt-core-news-lg==3.4.0) (4.5.0)\n",
            "Requirement already satisfied: urllib3<1.27,>=1.21.1 in /usr/local/lib/python3.9/dist-packages (from requests<3.0.0,>=2.13.0->spacy<3.5.0,>=3.4.0->pt-core-news-lg==3.4.0) (1.26.14)\n",
            "Requirement already satisfied: idna<3,>=2.5 in /usr/local/lib/python3.9/dist-packages (from requests<3.0.0,>=2.13.0->spacy<3.5.0,>=3.4.0->pt-core-news-lg==3.4.0) (2.10)\n",
            "Requirement already satisfied: certifi>=2017.4.17 in /usr/local/lib/python3.9/dist-packages (from requests<3.0.0,>=2.13.0->spacy<3.5.0,>=3.4.0->pt-core-news-lg==3.4.0) (2022.12.7)\n",
            "Requirement already satisfied: chardet<5,>=3.0.2 in /usr/local/lib/python3.9/dist-packages (from requests<3.0.0,>=2.13.0->spacy<3.5.0,>=3.4.0->pt-core-news-lg==3.4.0) (4.0.0)\n",
            "Requirement already satisfied: blis<0.8.0,>=0.7.8 in /usr/local/lib/python3.9/dist-packages (from thinc<8.2.0,>=8.1.0->spacy<3.5.0,>=3.4.0->pt-core-news-lg==3.4.0) (0.7.9)\n",
            "Requirement already satisfied: confection<1.0.0,>=0.0.1 in /usr/local/lib/python3.9/dist-packages (from thinc<8.2.0,>=8.1.0->spacy<3.5.0,>=3.4.0->pt-core-news-lg==3.4.0) (0.0.4)\n",
            "Requirement already satisfied: click<9.0.0,>=7.1.1 in /usr/local/lib/python3.9/dist-packages (from typer<0.8.0,>=0.3.0->spacy<3.5.0,>=3.4.0->pt-core-news-lg==3.4.0) (8.1.3)\n",
            "Requirement already satisfied: MarkupSafe>=2.0 in /usr/local/lib/python3.9/dist-packages (from jinja2->spacy<3.5.0,>=3.4.0->pt-core-news-lg==3.4.0) (2.1.2)\n",
            "Installing collected packages: pt-core-news-lg\n",
            "Successfully installed pt-core-news-lg-3.4.0\n",
            "\u001b[38;5;2m✔ Download and installation successful\u001b[0m\n",
            "You can now load the package via spacy.load('pt_core_news_lg')\n"
          ]
        }
      ],
      "source": [
        "!pip install youtube-transcript-api\n",
        "!pip install scrapetube\n",
        "!pip install pytube\n",
        "!pip install unidecode\n",
        "!python -m spacy download pt_core_news_lg"
      ]
    },
    {
      "cell_type": "code",
      "execution_count": 2,
      "metadata": {
        "colab": {
          "base_uri": "https://localhost:8080/"
        },
        "id": "I4mQZ69303fq",
        "outputId": "a619efb9-a2da-4f8a-f0a7-51703eeb2a05"
      },
      "outputs": [
        {
          "output_type": "stream",
          "name": "stderr",
          "text": [
            "/usr/local/lib/python3.9/dist-packages/torch/cuda/__init__.py:497: UserWarning: Can't initialize NVML\n",
            "  warnings.warn(\"Can't initialize NVML\")\n"
          ]
        }
      ],
      "source": [
        "from youtube_transcript_api import YouTubeTranscriptApi\n",
        "import scrapetube\n",
        "from pytube import YouTube\n",
        "import pandas as pd\n",
        "\n",
        "from unidecode import unidecode\n",
        "import string\n",
        "import spacy\n",
        "import nltk\n",
        "import re"
      ]
    },
    {
      "cell_type": "code",
      "execution_count": 3,
      "metadata": {
        "colab": {
          "base_uri": "https://localhost:8080/"
        },
        "id": "_qF8Rn1axQfG",
        "outputId": "0e27a7e6-1156-419d-91e0-7512fa64da4d"
      },
      "outputs": [
        {
          "output_type": "stream",
          "name": "stderr",
          "text": [
            "[nltk_data] Downloading package stopwords to /root/nltk_data...\n",
            "[nltk_data]   Unzipping corpora/stopwords.zip.\n"
          ]
        }
      ],
      "source": [
        "nltk.download('stopwords')\n",
        "stopwords = nltk.corpus.stopwords.words('portuguese')"
      ]
    },
    {
      "cell_type": "code",
      "execution_count": 4,
      "metadata": {
        "id": "MP9q9Z8C6T5o"
      },
      "outputs": [],
      "source": [
        "nlp = spacy.load('pt_core_news_lg')"
      ]
    },
    {
      "cell_type": "code",
      "execution_count": 5,
      "metadata": {
        "id": "D7Iy2v0M1g4v"
      },
      "outputs": [],
      "source": [
        "videos = list(scrapetube.get_playlist('PLWieWKZeFoVRmUNn9KA2dVpQswo19QkwQ'))"
      ]
    },
    {
      "cell_type": "code",
      "execution_count": 6,
      "metadata": {
        "colab": {
          "base_uri": "https://localhost:8080/"
        },
        "id": "PCyMmPtL9dyB",
        "outputId": "af149e40-685c-49af-fb65-2584d2fcda9a"
      },
      "outputs": [
        {
          "output_type": "execute_result",
          "data": {
            "text/plain": [
              "163"
            ]
          },
          "metadata": {},
          "execution_count": 6
        }
      ],
      "source": [
        "len(videos)"
      ]
    },
    {
      "cell_type": "code",
      "execution_count": 7,
      "metadata": {
        "colab": {
          "base_uri": "https://localhost:8080/"
        },
        "id": "CHyG5q8-9PeH",
        "outputId": "bd685bcc-f926-4c7e-a6e9-74f9fcad5da0"
      },
      "outputs": [
        {
          "output_type": "execute_result",
          "data": {
            "text/plain": [
              "dict_keys(['videoId', 'thumbnail', 'title', 'index', 'shortBylineText', 'lengthText', 'navigationEndpoint', 'lengthSeconds', 'trackingParams', 'isPlayable', 'menu', 'thumbnailOverlays', 'videoInfo'])"
            ]
          },
          "metadata": {},
          "execution_count": 7
        }
      ],
      "source": [
        "videos[0].keys()"
      ]
    },
    {
      "cell_type": "code",
      "execution_count": null,
      "metadata": {
        "id": "q6sBFOX29hIc"
      },
      "outputs": [],
      "source": [
        "transcriptions = list()\n",
        "\n",
        "for v in videos:\n",
        "\n",
        "  try:\n",
        "    video_id = v['videoId']\n",
        "    video_metadata = YouTube(f'https://www.youtube.com/watch?v={video_id}')\n",
        "    video_title = video_metadata.title\n",
        "    views_count = video_metadata.views\n",
        "    video_description = video_metadata.description\n",
        "    video_publish_date = video_metadata.publish_date\n",
        "    transcription = [t['text'] for t in YouTubeTranscriptApi.get_transcript(video_id, languages=['pt'])]\n",
        "\n",
        "    transcriptions.append([video_id, video_title, video_description, video_publish_date, views_count, transcription])\n",
        "\n",
        "  except Exception as e:\n",
        "    print(e)\n",
        "    continue"
      ]
    },
    {
      "cell_type": "code",
      "execution_count": 9,
      "metadata": {
        "colab": {
          "base_uri": "https://localhost:8080/"
        },
        "id": "NZpay0obDhBc",
        "outputId": "7bdb3821-4320-406d-d751-e6335e72fe48"
      },
      "outputs": [
        {
          "output_type": "execute_result",
          "data": {
            "text/plain": [
              "144"
            ]
          },
          "metadata": {},
          "execution_count": 9
        }
      ],
      "source": [
        "len(transcriptions)"
      ]
    },
    {
      "cell_type": "code",
      "execution_count": 10,
      "metadata": {
        "colab": {
          "base_uri": "https://localhost:8080/",
          "height": 666
        },
        "id": "Vil9xqq0_efH",
        "outputId": "be60da1c-c1a0-4ec9-c8d8-35bbead7a5c4"
      },
      "outputs": [
        {
          "output_type": "execute_result",
          "data": {
            "text/plain": [
              "      video_id                                        video_title  \\\n",
              "0  O2PehdBokN8   ÁLVARO MACHADO DIAS e MARTHA GABRIEL - Flow #183   \n",
              "1  A6jUhv0T5Hg  MIGUEL NICOLELIS, PETRIA CHAVES e OSCAR ULISSE...   \n",
              "2  bDD6Pj74Jc4  NANDO VIANA, PATRICK MAIA e BRUNO ROMANO - Flo...   \n",
              "3  JW_Bd4Pq6jM      ROSÂNGELA MONTEIRO e BETO RIBEIRO - Flow #180   \n",
              "4  SEZ-19y06uU  DIGUINHO CORUJA e PALHAÇO AMENDOIM [+ VINHETEI...   \n",
              "\n",
              "                                   video_description video_publish_date  \\\n",
              "0  Mais um episódio de dar câimbra no cérebro.\\n\\...         2023-03-07   \n",
              "1  Hoje vamos todos nos sentir burros.\\n\\n~~~~~~~...         2023-03-03   \n",
              "2  Esses 3 são deveras engraçados.\\n\\nEspecial do...         2023-03-02   \n",
              "3  Os cara do true crime.\\n\\n~~~~~~~\\n\\nHIDROMEL\\...         2023-03-01   \n",
              "4  Palhaço Coruja e Diguinho Amendoim.\\n\\n~~~~~~~...         2023-02-23   \n",
              "\n",
              "   views_count                                      transcription  \n",
              "0        88904  [[Música], [Música], salve salve família bem-v...  \n",
              "1       225131  [[Música], [Música], [Música], agora esse Banc...  \n",
              "2       167535  [[Música], [Música], muito bem muito bem começ...  \n",
              "3       384545  [[Música], [Música], [Música], salve salve fam...  \n",
              "4       306237  [[Música], [Música], [Música], um jardim, salv...  "
            ],
            "text/html": [
              "\n",
              "  <div id=\"df-cde9d8dc-ac41-45cf-bfaa-25636b40d980\">\n",
              "    <div class=\"colab-df-container\">\n",
              "      <div>\n",
              "<style scoped>\n",
              "    .dataframe tbody tr th:only-of-type {\n",
              "        vertical-align: middle;\n",
              "    }\n",
              "\n",
              "    .dataframe tbody tr th {\n",
              "        vertical-align: top;\n",
              "    }\n",
              "\n",
              "    .dataframe thead th {\n",
              "        text-align: right;\n",
              "    }\n",
              "</style>\n",
              "<table border=\"1\" class=\"dataframe\">\n",
              "  <thead>\n",
              "    <tr style=\"text-align: right;\">\n",
              "      <th></th>\n",
              "      <th>video_id</th>\n",
              "      <th>video_title</th>\n",
              "      <th>video_description</th>\n",
              "      <th>video_publish_date</th>\n",
              "      <th>views_count</th>\n",
              "      <th>transcription</th>\n",
              "    </tr>\n",
              "  </thead>\n",
              "  <tbody>\n",
              "    <tr>\n",
              "      <th>0</th>\n",
              "      <td>O2PehdBokN8</td>\n",
              "      <td>ÁLVARO MACHADO DIAS e MARTHA GABRIEL - Flow #183</td>\n",
              "      <td>Mais um episódio de dar câimbra no cérebro.\\n\\...</td>\n",
              "      <td>2023-03-07</td>\n",
              "      <td>88904</td>\n",
              "      <td>[[Música], [Música], salve salve família bem-v...</td>\n",
              "    </tr>\n",
              "    <tr>\n",
              "      <th>1</th>\n",
              "      <td>A6jUhv0T5Hg</td>\n",
              "      <td>MIGUEL NICOLELIS, PETRIA CHAVES e OSCAR ULISSE...</td>\n",
              "      <td>Hoje vamos todos nos sentir burros.\\n\\n~~~~~~~...</td>\n",
              "      <td>2023-03-03</td>\n",
              "      <td>225131</td>\n",
              "      <td>[[Música], [Música], [Música], agora esse Banc...</td>\n",
              "    </tr>\n",
              "    <tr>\n",
              "      <th>2</th>\n",
              "      <td>bDD6Pj74Jc4</td>\n",
              "      <td>NANDO VIANA, PATRICK MAIA e BRUNO ROMANO - Flo...</td>\n",
              "      <td>Esses 3 são deveras engraçados.\\n\\nEspecial do...</td>\n",
              "      <td>2023-03-02</td>\n",
              "      <td>167535</td>\n",
              "      <td>[[Música], [Música], muito bem muito bem começ...</td>\n",
              "    </tr>\n",
              "    <tr>\n",
              "      <th>3</th>\n",
              "      <td>JW_Bd4Pq6jM</td>\n",
              "      <td>ROSÂNGELA MONTEIRO e BETO RIBEIRO - Flow #180</td>\n",
              "      <td>Os cara do true crime.\\n\\n~~~~~~~\\n\\nHIDROMEL\\...</td>\n",
              "      <td>2023-03-01</td>\n",
              "      <td>384545</td>\n",
              "      <td>[[Música], [Música], [Música], salve salve fam...</td>\n",
              "    </tr>\n",
              "    <tr>\n",
              "      <th>4</th>\n",
              "      <td>SEZ-19y06uU</td>\n",
              "      <td>DIGUINHO CORUJA e PALHAÇO AMENDOIM [+ VINHETEI...</td>\n",
              "      <td>Palhaço Coruja e Diguinho Amendoim.\\n\\n~~~~~~~...</td>\n",
              "      <td>2023-02-23</td>\n",
              "      <td>306237</td>\n",
              "      <td>[[Música], [Música], [Música], um jardim, salv...</td>\n",
              "    </tr>\n",
              "  </tbody>\n",
              "</table>\n",
              "</div>\n",
              "      <button class=\"colab-df-convert\" onclick=\"convertToInteractive('df-cde9d8dc-ac41-45cf-bfaa-25636b40d980')\"\n",
              "              title=\"Convert this dataframe to an interactive table.\"\n",
              "              style=\"display:none;\">\n",
              "        \n",
              "  <svg xmlns=\"http://www.w3.org/2000/svg\" height=\"24px\"viewBox=\"0 0 24 24\"\n",
              "       width=\"24px\">\n",
              "    <path d=\"M0 0h24v24H0V0z\" fill=\"none\"/>\n",
              "    <path d=\"M18.56 5.44l.94 2.06.94-2.06 2.06-.94-2.06-.94-.94-2.06-.94 2.06-2.06.94zm-11 1L8.5 8.5l.94-2.06 2.06-.94-2.06-.94L8.5 2.5l-.94 2.06-2.06.94zm10 10l.94 2.06.94-2.06 2.06-.94-2.06-.94-.94-2.06-.94 2.06-2.06.94z\"/><path d=\"M17.41 7.96l-1.37-1.37c-.4-.4-.92-.59-1.43-.59-.52 0-1.04.2-1.43.59L10.3 9.45l-7.72 7.72c-.78.78-.78 2.05 0 2.83L4 21.41c.39.39.9.59 1.41.59.51 0 1.02-.2 1.41-.59l7.78-7.78 2.81-2.81c.8-.78.8-2.07 0-2.86zM5.41 20L4 18.59l7.72-7.72 1.47 1.35L5.41 20z\"/>\n",
              "  </svg>\n",
              "      </button>\n",
              "      \n",
              "  <style>\n",
              "    .colab-df-container {\n",
              "      display:flex;\n",
              "      flex-wrap:wrap;\n",
              "      gap: 12px;\n",
              "    }\n",
              "\n",
              "    .colab-df-convert {\n",
              "      background-color: #E8F0FE;\n",
              "      border: none;\n",
              "      border-radius: 50%;\n",
              "      cursor: pointer;\n",
              "      display: none;\n",
              "      fill: #1967D2;\n",
              "      height: 32px;\n",
              "      padding: 0 0 0 0;\n",
              "      width: 32px;\n",
              "    }\n",
              "\n",
              "    .colab-df-convert:hover {\n",
              "      background-color: #E2EBFA;\n",
              "      box-shadow: 0px 1px 2px rgba(60, 64, 67, 0.3), 0px 1px 3px 1px rgba(60, 64, 67, 0.15);\n",
              "      fill: #174EA6;\n",
              "    }\n",
              "\n",
              "    [theme=dark] .colab-df-convert {\n",
              "      background-color: #3B4455;\n",
              "      fill: #D2E3FC;\n",
              "    }\n",
              "\n",
              "    [theme=dark] .colab-df-convert:hover {\n",
              "      background-color: #434B5C;\n",
              "      box-shadow: 0px 1px 3px 1px rgba(0, 0, 0, 0.15);\n",
              "      filter: drop-shadow(0px 1px 2px rgba(0, 0, 0, 0.3));\n",
              "      fill: #FFFFFF;\n",
              "    }\n",
              "  </style>\n",
              "\n",
              "      <script>\n",
              "        const buttonEl =\n",
              "          document.querySelector('#df-cde9d8dc-ac41-45cf-bfaa-25636b40d980 button.colab-df-convert');\n",
              "        buttonEl.style.display =\n",
              "          google.colab.kernel.accessAllowed ? 'block' : 'none';\n",
              "\n",
              "        async function convertToInteractive(key) {\n",
              "          const element = document.querySelector('#df-cde9d8dc-ac41-45cf-bfaa-25636b40d980');\n",
              "          const dataTable =\n",
              "            await google.colab.kernel.invokeFunction('convertToInteractive',\n",
              "                                                     [key], {});\n",
              "          if (!dataTable) return;\n",
              "\n",
              "          const docLinkHtml = 'Like what you see? Visit the ' +\n",
              "            '<a target=\"_blank\" href=https://colab.research.google.com/notebooks/data_table.ipynb>data table notebook</a>'\n",
              "            + ' to learn more about interactive tables.';\n",
              "          element.innerHTML = '';\n",
              "          dataTable['output_type'] = 'display_data';\n",
              "          await google.colab.output.renderOutput(dataTable, element);\n",
              "          const docLink = document.createElement('div');\n",
              "          docLink.innerHTML = docLinkHtml;\n",
              "          element.appendChild(docLink);\n",
              "        }\n",
              "      </script>\n",
              "    </div>\n",
              "  </div>\n",
              "  "
            ]
          },
          "metadata": {},
          "execution_count": 10
        }
      ],
      "source": [
        "df = pd.DataFrame(transcriptions, columns=['video_id', 'video_title', 'video_description', 'video_publish_date', 'views_count', 'transcription'])\n",
        "df.head()"
      ]
    },
    {
      "cell_type": "code",
      "execution_count": 11,
      "metadata": {
        "colab": {
          "base_uri": "https://localhost:8080/"
        },
        "id": "QbXJsm_aiZsV",
        "outputId": "ae6fdead-cddf-4b26-df8a-77d27d45cbd8"
      },
      "outputs": [
        {
          "output_type": "execute_result",
          "data": {
            "text/plain": [
              "[Música]     1192\n",
              "[Risadas]    1052\n",
              "E aí          335\n",
              "[ __ ]        268\n",
              "e             237\n",
              "né            202\n",
              "é             180\n",
              "o             169\n",
              "cara          162\n",
              "não           138\n",
              "assim         128\n",
              "a             123\n",
              "que           117\n",
              "hahaha        110\n",
              "então         102\n",
              "Name: transcription, dtype: int64"
            ]
          },
          "metadata": {},
          "execution_count": 11
        }
      ],
      "source": [
        "df['transcription'].explode().value_counts().head(15)"
      ]
    },
    {
      "cell_type": "code",
      "execution_count": 12,
      "metadata": {
        "id": "lKxkPsWfmKca"
      },
      "outputs": [],
      "source": [
        "def remove_itens(txt):\n",
        "  txt = [x for x in txt if x not in ['[Música]', '[Risadas]', '[ __ ]', '[Aplausos]']]\n",
        "\n",
        "  return txt"
      ]
    },
    {
      "cell_type": "code",
      "execution_count": 13,
      "metadata": {
        "id": "7w9Cl52fk8g4"
      },
      "outputs": [],
      "source": [
        "df['transcription'] = df['transcription'].apply(remove_itens)"
      ]
    },
    {
      "cell_type": "code",
      "execution_count": 14,
      "metadata": {
        "colab": {
          "base_uri": "https://localhost:8080/",
          "height": 666
        },
        "id": "Bw1Ekg8clrWl",
        "outputId": "c0b51ced-e117-4c4b-e7f3-f3834f634c00"
      },
      "outputs": [
        {
          "output_type": "execute_result",
          "data": {
            "text/plain": [
              "      video_id                                        video_title  \\\n",
              "0  O2PehdBokN8   ÁLVARO MACHADO DIAS e MARTHA GABRIEL - Flow #183   \n",
              "1  A6jUhv0T5Hg  MIGUEL NICOLELIS, PETRIA CHAVES e OSCAR ULISSE...   \n",
              "2  bDD6Pj74Jc4  NANDO VIANA, PATRICK MAIA e BRUNO ROMANO - Flo...   \n",
              "3  JW_Bd4Pq6jM      ROSÂNGELA MONTEIRO e BETO RIBEIRO - Flow #180   \n",
              "4  SEZ-19y06uU  DIGUINHO CORUJA e PALHAÇO AMENDOIM [+ VINHETEI...   \n",
              "\n",
              "                                   video_description video_publish_date  \\\n",
              "0  Mais um episódio de dar câimbra no cérebro.\\n\\...         2023-03-07   \n",
              "1  Hoje vamos todos nos sentir burros.\\n\\n~~~~~~~...         2023-03-03   \n",
              "2  Esses 3 são deveras engraçados.\\n\\nEspecial do...         2023-03-02   \n",
              "3  Os cara do true crime.\\n\\n~~~~~~~\\n\\nHIDROMEL\\...         2023-03-01   \n",
              "4  Palhaço Coruja e Diguinho Amendoim.\\n\\n~~~~~~~...         2023-02-23   \n",
              "\n",
              "   views_count                                      transcription  \n",
              "0        88904  [salve salve família bem-vindos a mais um, Flo...  \n",
              "1       225131  [agora esse Banco esse banco é incrível, nunca...  \n",
              "2       167535  [muito bem muito bem começa então tu vai, e aí...  \n",
              "3       384545  [salve salve família bem-vindos a mais um, Flo...  \n",
              "4       306237  [um jardim, salve salve família bem-vindos a m...  "
            ],
            "text/html": [
              "\n",
              "  <div id=\"df-c851ebcb-ae00-486a-b343-3e9cd687bc01\">\n",
              "    <div class=\"colab-df-container\">\n",
              "      <div>\n",
              "<style scoped>\n",
              "    .dataframe tbody tr th:only-of-type {\n",
              "        vertical-align: middle;\n",
              "    }\n",
              "\n",
              "    .dataframe tbody tr th {\n",
              "        vertical-align: top;\n",
              "    }\n",
              "\n",
              "    .dataframe thead th {\n",
              "        text-align: right;\n",
              "    }\n",
              "</style>\n",
              "<table border=\"1\" class=\"dataframe\">\n",
              "  <thead>\n",
              "    <tr style=\"text-align: right;\">\n",
              "      <th></th>\n",
              "      <th>video_id</th>\n",
              "      <th>video_title</th>\n",
              "      <th>video_description</th>\n",
              "      <th>video_publish_date</th>\n",
              "      <th>views_count</th>\n",
              "      <th>transcription</th>\n",
              "    </tr>\n",
              "  </thead>\n",
              "  <tbody>\n",
              "    <tr>\n",
              "      <th>0</th>\n",
              "      <td>O2PehdBokN8</td>\n",
              "      <td>ÁLVARO MACHADO DIAS e MARTHA GABRIEL - Flow #183</td>\n",
              "      <td>Mais um episódio de dar câimbra no cérebro.\\n\\...</td>\n",
              "      <td>2023-03-07</td>\n",
              "      <td>88904</td>\n",
              "      <td>[salve salve família bem-vindos a mais um, Flo...</td>\n",
              "    </tr>\n",
              "    <tr>\n",
              "      <th>1</th>\n",
              "      <td>A6jUhv0T5Hg</td>\n",
              "      <td>MIGUEL NICOLELIS, PETRIA CHAVES e OSCAR ULISSE...</td>\n",
              "      <td>Hoje vamos todos nos sentir burros.\\n\\n~~~~~~~...</td>\n",
              "      <td>2023-03-03</td>\n",
              "      <td>225131</td>\n",
              "      <td>[agora esse Banco esse banco é incrível, nunca...</td>\n",
              "    </tr>\n",
              "    <tr>\n",
              "      <th>2</th>\n",
              "      <td>bDD6Pj74Jc4</td>\n",
              "      <td>NANDO VIANA, PATRICK MAIA e BRUNO ROMANO - Flo...</td>\n",
              "      <td>Esses 3 são deveras engraçados.\\n\\nEspecial do...</td>\n",
              "      <td>2023-03-02</td>\n",
              "      <td>167535</td>\n",
              "      <td>[muito bem muito bem começa então tu vai, e aí...</td>\n",
              "    </tr>\n",
              "    <tr>\n",
              "      <th>3</th>\n",
              "      <td>JW_Bd4Pq6jM</td>\n",
              "      <td>ROSÂNGELA MONTEIRO e BETO RIBEIRO - Flow #180</td>\n",
              "      <td>Os cara do true crime.\\n\\n~~~~~~~\\n\\nHIDROMEL\\...</td>\n",
              "      <td>2023-03-01</td>\n",
              "      <td>384545</td>\n",
              "      <td>[salve salve família bem-vindos a mais um, Flo...</td>\n",
              "    </tr>\n",
              "    <tr>\n",
              "      <th>4</th>\n",
              "      <td>SEZ-19y06uU</td>\n",
              "      <td>DIGUINHO CORUJA e PALHAÇO AMENDOIM [+ VINHETEI...</td>\n",
              "      <td>Palhaço Coruja e Diguinho Amendoim.\\n\\n~~~~~~~...</td>\n",
              "      <td>2023-02-23</td>\n",
              "      <td>306237</td>\n",
              "      <td>[um jardim, salve salve família bem-vindos a m...</td>\n",
              "    </tr>\n",
              "  </tbody>\n",
              "</table>\n",
              "</div>\n",
              "      <button class=\"colab-df-convert\" onclick=\"convertToInteractive('df-c851ebcb-ae00-486a-b343-3e9cd687bc01')\"\n",
              "              title=\"Convert this dataframe to an interactive table.\"\n",
              "              style=\"display:none;\">\n",
              "        \n",
              "  <svg xmlns=\"http://www.w3.org/2000/svg\" height=\"24px\"viewBox=\"0 0 24 24\"\n",
              "       width=\"24px\">\n",
              "    <path d=\"M0 0h24v24H0V0z\" fill=\"none\"/>\n",
              "    <path d=\"M18.56 5.44l.94 2.06.94-2.06 2.06-.94-2.06-.94-.94-2.06-.94 2.06-2.06.94zm-11 1L8.5 8.5l.94-2.06 2.06-.94-2.06-.94L8.5 2.5l-.94 2.06-2.06.94zm10 10l.94 2.06.94-2.06 2.06-.94-2.06-.94-.94-2.06-.94 2.06-2.06.94z\"/><path d=\"M17.41 7.96l-1.37-1.37c-.4-.4-.92-.59-1.43-.59-.52 0-1.04.2-1.43.59L10.3 9.45l-7.72 7.72c-.78.78-.78 2.05 0 2.83L4 21.41c.39.39.9.59 1.41.59.51 0 1.02-.2 1.41-.59l7.78-7.78 2.81-2.81c.8-.78.8-2.07 0-2.86zM5.41 20L4 18.59l7.72-7.72 1.47 1.35L5.41 20z\"/>\n",
              "  </svg>\n",
              "      </button>\n",
              "      \n",
              "  <style>\n",
              "    .colab-df-container {\n",
              "      display:flex;\n",
              "      flex-wrap:wrap;\n",
              "      gap: 12px;\n",
              "    }\n",
              "\n",
              "    .colab-df-convert {\n",
              "      background-color: #E8F0FE;\n",
              "      border: none;\n",
              "      border-radius: 50%;\n",
              "      cursor: pointer;\n",
              "      display: none;\n",
              "      fill: #1967D2;\n",
              "      height: 32px;\n",
              "      padding: 0 0 0 0;\n",
              "      width: 32px;\n",
              "    }\n",
              "\n",
              "    .colab-df-convert:hover {\n",
              "      background-color: #E2EBFA;\n",
              "      box-shadow: 0px 1px 2px rgba(60, 64, 67, 0.3), 0px 1px 3px 1px rgba(60, 64, 67, 0.15);\n",
              "      fill: #174EA6;\n",
              "    }\n",
              "\n",
              "    [theme=dark] .colab-df-convert {\n",
              "      background-color: #3B4455;\n",
              "      fill: #D2E3FC;\n",
              "    }\n",
              "\n",
              "    [theme=dark] .colab-df-convert:hover {\n",
              "      background-color: #434B5C;\n",
              "      box-shadow: 0px 1px 3px 1px rgba(0, 0, 0, 0.15);\n",
              "      filter: drop-shadow(0px 1px 2px rgba(0, 0, 0, 0.3));\n",
              "      fill: #FFFFFF;\n",
              "    }\n",
              "  </style>\n",
              "\n",
              "      <script>\n",
              "        const buttonEl =\n",
              "          document.querySelector('#df-c851ebcb-ae00-486a-b343-3e9cd687bc01 button.colab-df-convert');\n",
              "        buttonEl.style.display =\n",
              "          google.colab.kernel.accessAllowed ? 'block' : 'none';\n",
              "\n",
              "        async function convertToInteractive(key) {\n",
              "          const element = document.querySelector('#df-c851ebcb-ae00-486a-b343-3e9cd687bc01');\n",
              "          const dataTable =\n",
              "            await google.colab.kernel.invokeFunction('convertToInteractive',\n",
              "                                                     [key], {});\n",
              "          if (!dataTable) return;\n",
              "\n",
              "          const docLinkHtml = 'Like what you see? Visit the ' +\n",
              "            '<a target=\"_blank\" href=https://colab.research.google.com/notebooks/data_table.ipynb>data table notebook</a>'\n",
              "            + ' to learn more about interactive tables.';\n",
              "          element.innerHTML = '';\n",
              "          dataTable['output_type'] = 'display_data';\n",
              "          await google.colab.output.renderOutput(dataTable, element);\n",
              "          const docLink = document.createElement('div');\n",
              "          docLink.innerHTML = docLinkHtml;\n",
              "          element.appendChild(docLink);\n",
              "        }\n",
              "      </script>\n",
              "    </div>\n",
              "  </div>\n",
              "  "
            ]
          },
          "metadata": {},
          "execution_count": 14
        }
      ],
      "source": [
        "df.head()"
      ]
    },
    {
      "cell_type": "code",
      "execution_count": 15,
      "metadata": {
        "id": "ry2AnfJPn-t5"
      },
      "outputs": [],
      "source": [
        "df.to_excel('extractions.xlsx', index=False)"
      ]
    },
    {
      "cell_type": "code",
      "execution_count": 16,
      "metadata": {
        "colab": {
          "base_uri": "https://localhost:8080/"
        },
        "id": "Q-yChpKIngo1",
        "outputId": "75119e2c-0e11-41b0-bb3e-026014f14ce9"
      },
      "outputs": [
        {
          "output_type": "execute_result",
          "data": {
            "text/plain": [
              "['salve salve família bem-vindos a mais um',\n",
              " 'Flow eu sou o Igor e hoje eu vou',\n",
              " 'conversar com Marta Gabriel Obrigado por',\n",
              " 'vir aí trazer gigante e Álvaro Machado',\n",
              " 'Dias família']"
            ]
          },
          "metadata": {},
          "execution_count": 16
        }
      ],
      "source": [
        "df['transcription'][0][:5]"
      ]
    },
    {
      "cell_type": "code",
      "execution_count": 17,
      "metadata": {
        "id": "ikmC-EO9w5Ll"
      },
      "outputs": [],
      "source": [
        "def remove_stopwords(text, stop_words=stopwords):\n",
        "\n",
        "  filtered_text = [word for word in text if word not in stop_words]\n",
        "\n",
        "  return filtered_text\n",
        "\n",
        "def remove_punctuation(text): \n",
        "\n",
        "  translator = str.maketrans('', '', string.punctuation)\n",
        "\n",
        "  return text.translate(translator) \n",
        "\n",
        "def remove_accented_chars(text):\n",
        "  \n",
        "  text = unidecode(text)\n",
        "  return text\n",
        "\n",
        "def remove_numbers(text): \n",
        "\n",
        "  result = re.sub(r'\\d+', '', text)\n",
        "\n",
        "  return result\n",
        "\n",
        "def lemma(txt):\n",
        "  \n",
        "  doc = nlp(' '.join(txt))\n",
        "  doc = ' '.join([token.lemma_ for token in doc])\n",
        "\n",
        "  return doc\n",
        "\n",
        "def prepare_text(transcription_list):\n",
        "\n",
        "  return lemma(remove_stopwords(remove_numbers(remove_punctuation(' '.join(transcription_list).lower()))))"
      ]
    },
    {
      "cell_type": "code",
      "execution_count": null,
      "metadata": {
        "colab": {
          "background_save": true
        },
        "id": "GMKKYVb11Oup"
      },
      "outputs": [],
      "source": [
        "df['clean_transcription'] = df['transcription'].apply(prepare_text)\n",
        "df['clean_transcription'][0]"
      ]
    },
    {
      "cell_type": "code",
      "execution_count": null,
      "metadata": {
        "colab": {
          "background_save": true
        },
        "id": "hG49fHmMT-To"
      },
      "outputs": [],
      "source": [
        "#from nltk.stem import RSLPStemmer\n",
        "#nltk.download('rslp')\n",
        "#stemmer = RSLPStemmer()\n",
        "#[stemmer.stem(x) for x in df['transcription'][0][10].split()]"
      ]
    },
    {
      "cell_type": "code",
      "execution_count": null,
      "metadata": {
        "colab": {
          "background_save": true
        },
        "id": "O4OsiD1lZLAQ"
      },
      "outputs": [],
      "source": [
        "from sklearn.feature_extraction.text import CountVectorizer"
      ]
    },
    {
      "cell_type": "code",
      "execution_count": null,
      "metadata": {
        "colab": {
          "background_save": true
        },
        "id": "odBzjHuna4ue"
      },
      "outputs": [],
      "source": [
        "vetor = CountVectorizer()\n",
        "x = vetor.fit_transform(df['clean_transcription']).toarray()\n",
        "x"
      ]
    },
    {
      "cell_type": "code",
      "execution_count": null,
      "metadata": {
        "colab": {
          "background_save": true
        },
        "id": "xnqw8uDpgoYX"
      },
      "outputs": [],
      "source": [
        "len(x[0])"
      ]
    },
    {
      "cell_type": "markdown",
      "metadata": {
        "id": "q9lWCGgJEzZC"
      },
      "source": [
        "quantidade de views aumenta com o tempo -> corrigir removendo a média"
      ]
    }
  ],
  "metadata": {
    "colab": {
      "provenance": []
    },
    "kernelspec": {
      "display_name": "Python 3",
      "name": "python3"
    },
    "language_info": {
      "name": "python"
    }
  },
  "nbformat": 4,
  "nbformat_minor": 0
}